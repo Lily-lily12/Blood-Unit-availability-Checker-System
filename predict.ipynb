{
 "cells": [
  {
   "cell_type": "code",
   "execution_count": 1,
   "metadata": {},
   "outputs": [],
   "source": [
    "import pandas as pd\n",
    "\n",
    "# Load the data\n",
    "df=pd.read_csv('datablood.csv')"
   ]
  },
  {
   "cell_type": "code",
   "execution_count": 2,
   "metadata": {},
   "outputs": [
    {
     "data": {
      "text/html": [
       "<div>\n",
       "<style scoped>\n",
       "    .dataframe tbody tr th:only-of-type {\n",
       "        vertical-align: middle;\n",
       "    }\n",
       "\n",
       "    .dataframe tbody tr th {\n",
       "        vertical-align: top;\n",
       "    }\n",
       "\n",
       "    .dataframe thead th {\n",
       "        text-align: right;\n",
       "    }\n",
       "</style>\n",
       "<table border=\"1\" class=\"dataframe\">\n",
       "  <thead>\n",
       "    <tr style=\"text-align: right;\">\n",
       "      <th></th>\n",
       "      <th>S.No.</th>\n",
       "      <th>Hospital Name</th>\n",
       "      <th>A+</th>\n",
       "      <th>A-</th>\n",
       "      <th>B+</th>\n",
       "      <th>B-</th>\n",
       "      <th>O+</th>\n",
       "      <th>O-</th>\n",
       "      <th>AB+</th>\n",
       "      <th>AB-</th>\n",
       "      <th>Total Units</th>\n",
       "      <th>Last Updated Date</th>\n",
       "    </tr>\n",
       "  </thead>\n",
       "  <tbody>\n",
       "    <tr>\n",
       "      <th>0</th>\n",
       "      <td>1</td>\n",
       "      <td>M/S Vikash Sheel Seva Sansthan, Godda Hospital...</td>\n",
       "      <td>3</td>\n",
       "      <td>0</td>\n",
       "      <td>3.0</td>\n",
       "      <td>2</td>\n",
       "      <td>4</td>\n",
       "      <td>0</td>\n",
       "      <td>1</td>\n",
       "      <td>1</td>\n",
       "      <td>14</td>\n",
       "      <td>01-05-2024 08:58</td>\n",
       "    </tr>\n",
       "    <tr>\n",
       "      <th>1</th>\n",
       "      <td>2</td>\n",
       "      <td>Asarfi Blood Centre</td>\n",
       "      <td>0</td>\n",
       "      <td>0</td>\n",
       "      <td>4.0</td>\n",
       "      <td>0</td>\n",
       "      <td>5</td>\n",
       "      <td>0</td>\n",
       "      <td>1</td>\n",
       "      <td>0</td>\n",
       "      <td>10</td>\n",
       "      <td>01-05-2024 10:32</td>\n",
       "    </tr>\n",
       "    <tr>\n",
       "      <th>2</th>\n",
       "      <td>3</td>\n",
       "      <td>Blood Bank, Sadar Hospital, Jamtara</td>\n",
       "      <td>2</td>\n",
       "      <td>1</td>\n",
       "      <td>2.0</td>\n",
       "      <td>0</td>\n",
       "      <td>11</td>\n",
       "      <td>0</td>\n",
       "      <td>0</td>\n",
       "      <td>0</td>\n",
       "      <td>16</td>\n",
       "      <td>01-05-2024 11:06</td>\n",
       "    </tr>\n",
       "    <tr>\n",
       "      <th>3</th>\n",
       "      <td>4</td>\n",
       "      <td>Blood Bank Maa Rampyari superspeciality Hospit...</td>\n",
       "      <td>4</td>\n",
       "      <td>0</td>\n",
       "      <td>27.0</td>\n",
       "      <td>0</td>\n",
       "      <td>3</td>\n",
       "      <td>0</td>\n",
       "      <td>0</td>\n",
       "      <td>1</td>\n",
       "      <td>35</td>\n",
       "      <td>02-05-2024 07:26</td>\n",
       "    </tr>\n",
       "    <tr>\n",
       "      <th>4</th>\n",
       "      <td>5</td>\n",
       "      <td>Blood Bank, Bhagwan Mahabir Medica Superspecia...</td>\n",
       "      <td>0</td>\n",
       "      <td>0</td>\n",
       "      <td>1.0</td>\n",
       "      <td>0</td>\n",
       "      <td>0</td>\n",
       "      <td>0</td>\n",
       "      <td>0</td>\n",
       "      <td>0</td>\n",
       "      <td>1</td>\n",
       "      <td>02-05-2024 10:22</td>\n",
       "    </tr>\n",
       "  </tbody>\n",
       "</table>\n",
       "</div>"
      ],
      "text/plain": [
       "   S.No.                                      Hospital Name  A+  A-    B+  B-  \\\n",
       "0      1  M/S Vikash Sheel Seva Sansthan, Godda Hospital...   3   0   3.0   2   \n",
       "1      2                                Asarfi Blood Centre   0   0   4.0   0   \n",
       "2      3                Blood Bank, Sadar Hospital, Jamtara   2   1   2.0   0   \n",
       "3      4  Blood Bank Maa Rampyari superspeciality Hospit...   4   0  27.0   0   \n",
       "4      5  Blood Bank, Bhagwan Mahabir Medica Superspecia...   0   0   1.0   0   \n",
       "\n",
       "   O+  O-  AB+  AB-  Total Units Last Updated Date  \n",
       "0   4   0    1    1           14  01-05-2024 08:58  \n",
       "1   5   0    1    0           10  01-05-2024 10:32  \n",
       "2  11   0    0    0           16  01-05-2024 11:06  \n",
       "3   3   0    0    1           35  02-05-2024 07:26  \n",
       "4   0   0    0    0            1  02-05-2024 10:22  "
      ]
     },
     "execution_count": 2,
     "metadata": {},
     "output_type": "execute_result"
    }
   ],
   "source": [
    "# Display the first few rows of the dataframe\n",
    "df.head()"
   ]
  },
  {
   "cell_type": "code",
   "execution_count": 3,
   "metadata": {},
   "outputs": [
    {
     "name": "stdout",
     "output_type": "stream",
     "text": [
      "S.No.                0\n",
      "Hospital Name        0\n",
      "A+                   0\n",
      "A-                   0\n",
      "B+                   1\n",
      "B-                   0\n",
      "O+                   0\n",
      "O-                   0\n",
      "AB+                  0\n",
      "AB-                  0\n",
      "Total Units          0\n",
      "Last Updated Date    0\n",
      "dtype: int64\n"
     ]
    }
   ],
   "source": [
    "# Check for missing values\n",
    "print(df.isnull().sum())"
   ]
  },
  {
   "cell_type": "code",
   "execution_count": 4,
   "metadata": {},
   "outputs": [],
   "source": [
    "# Fill or drop missing values if any\n",
    "df.fillna(0, inplace=True)"
   ]
  },
  {
   "cell_type": "code",
   "execution_count": 5,
   "metadata": {},
   "outputs": [
    {
     "name": "stdout",
     "output_type": "stream",
     "text": [
      "                                          Hospital Name  A+\n",
      "15    Blood Bank Division, Devkamal Hospital & Resea...   7\n",
      "16    Blood Bank Division, Devkamal Hospital & Resea...   7\n",
      "17                  Blood Bank, Sadar Hospital, Giridih   7\n",
      "21                            Blood Bank, C.C.L. RANCHI   5\n",
      "25                   SINGHPUR NURSING HOME BLOOD CENTRE   6\n",
      "...                                                 ...  ..\n",
      "1241      Nagarmal Modi Seva Sadan Hospital, Blood Bank   5\n",
      "1248                            Bokaro General Hospital  24\n",
      "1251                 Blood Bank, Sadar Hospital, Palamu  29\n",
      "1252                 Blood Bank, Sadar Hospital, Palamu  29\n",
      "1261  Gurunanak Hospital & Research Centre Blood Ban...   9\n",
      "\n",
      "[279 rows x 2 columns]\n"
     ]
    }
   ],
   "source": [
    "def find_hospitals(df, blood_type, required_units):\n",
    "    # Filter hospitals where the blood type units are greater than or equal to required units\n",
    "    available_hospitals = df[df[blood_type] >= required_units]\n",
    "    \n",
    "    # Return the hospital names and available units\n",
    "    return available_hospitals[['Hospital Name', blood_type]]\n",
    "\n",
    "# Example usage:\n",
    "blood_type = 'A+'\n",
    "required_units = 5\n",
    "available_hospitals = find_hospitals(df, blood_type, required_units)\n",
    "print(available_hospitals)"
   ]
  }
 ],
 "metadata": {
  "kernelspec": {
   "display_name": "base",
   "language": "python",
   "name": "python3"
  },
  "language_info": {
   "codemirror_mode": {
    "name": "ipython",
    "version": 3
   },
   "file_extension": ".py",
   "mimetype": "text/x-python",
   "name": "python",
   "nbconvert_exporter": "python",
   "pygments_lexer": "ipython3",
   "version": "3.11.7"
  }
 },
 "nbformat": 4,
 "nbformat_minor": 2
}
